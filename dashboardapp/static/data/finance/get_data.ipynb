{
 "cells": [
  {
   "cell_type": "code",
   "execution_count": 2,
   "metadata": {},
   "outputs": [],
   "source": [
    "import pandas as pd\n",
    "import requests"
   ]
  },
  {
   "cell_type": "code",
   "execution_count": 21,
   "metadata": {},
   "outputs": [],
   "source": [
    "# INFLATION_USA\n",
    "url = \"https://data.nasdaq.com/api/v3/datasets/RATEINF/INFLATION_USA.json?api_key=U7-3C3oT69mUDH7-F_VW&collapse=monthly\"\n",
    "response = requests.get(url)\n",
    "inflation_json = response.json()['dataset']['data']\n",
    "# get the data\n",
    "time_list = []\n",
    "# price_list = []\n",
    "rate_list = []\n",
    "inflation_len = len(inflation_json)\n",
    "for i in range(0,inflation_len):\n",
    "    time_list.append(inflation_json[i][0])\n",
    "    rate_list.append(inflation_json[i][1])\n",
    "# transfer to dataframe\n",
    "inflation_df = pd.DataFrame({\n",
    "    'time':time_list,\n",
    "    'inflation_rate': rate_list\n",
    "},index=None)\n",
    "# export to file\n",
    "inflation_df.to_csv('us_inflation_rate.csv',index=None)\n",
    "\n",
    "# Dow-Jones Industrial Stock Price\n",
    "url = 'https://data.nasdaq.com/api/v3/datasets/FRED/M1109AUSM293NNBR.json?api_key=U7-3C3oT69mUDH7-F_VW'\n",
    "response = requests.get(url)\n",
    "dowjonse_json = response.json()['dataset']['data']\n",
    "# get the data\n",
    "time_list = []\n",
    "price_list = []\n",
    "# rate_list = []\n",
    "dowjonse_len = len(dowjonse_json)\n",
    "for i in range(0,dowjonse_len):\n",
    "    time_list.append(dowjonse_json[i][0])\n",
    "    price_list.append(dowjonse_json[i][1])\n",
    "# transfer to dataframe\n",
    "dowjonse = pd.DataFrame({\n",
    "    'time':time_list,\n",
    "    'inflation_rate': price_list\n",
    "},index=None)\n",
    "# export to file\n",
    "dowjonse.to_csv('us_dow_jonse_price.csv',index=None)\n",
    "\n",
    "# US CONSUMER PRICE\n",
    "url = 'https://data.nasdaq.com/api/v3/datasets/RATEINF/CPI_USA.json?api_key=U7-3C3oT69mUDH7-F_VW'\n",
    "response = requests.get(url)\n",
    "cpi_json = response.json()['dataset']['data']\n",
    "# get the data\n",
    "time_list = []\n",
    "price_list = []\n",
    "# rate_list = []\n",
    "cpi_len = len(cpi_json)\n",
    "for i in range(0,cpi_len):\n",
    "    time_list.append(cpi_json[i][0])\n",
    "    price_list.append(cpi_json[i][1])\n",
    "# transfer to dataframe\n",
    "cpi = pd.DataFrame({\n",
    "    'time':time_list,\n",
    "    'consumer_price': price_list\n",
    "},index=None)\n",
    "# export to file\n",
    "cpi.to_csv('us_cpi_price.csv',index=None)"
   ]
  },
  {
   "cell_type": "code",
   "execution_count": 3,
   "metadata": {},
   "outputs": [],
   "source": [
    "# SP500 Price\n",
    "url = 'https://data.nasdaq.com/api/v3/datasets/MULTPL/SP500_REAL_PRICE_MONTH.json?api_key=U7-3C3oT69mUDH7-F_VW'\n",
    "response = requests.get(url)\n",
    "sp500_json = response.json()['dataset']['data']\n",
    "# get the data\n",
    "time_list = []\n",
    "price_list = []\n",
    "# rate_list = []\n",
    "sp500_len = len(sp500_json)\n",
    "for i in range(0,sp500_len):\n",
    "    time_list.append(sp500_json[i][0])\n",
    "    price_list.append(sp500_json[i][1])\n",
    "# transfer to dataframe\n",
    "sp500 = pd.DataFrame({\n",
    "    'Date':time_list,\n",
    "    'sp500 price': price_list\n",
    "},index=None)\n",
    "# export to file\n",
    "\n",
    "sp500.to_csv('us_sp500_price.csv',index=None)"
   ]
  },
  {
   "cell_type": "code",
   "execution_count": 11,
   "metadata": {},
   "outputs": [
    {
     "data": {
      "application/vnd.plotly.v1+json": {
       "config": {
        "plotlyServerURL": "https://plot.ly"
       },
       "data": [
        {
         "hovertemplate": "Date=%{x}<br>sp500 price=%{y}<extra></extra>",
         "legendgroup": "",
         "line": {
          "color": "#636efa",
          "dash": "solid"
         },
         "marker": {
          "symbol": "circle"
         },
         "mode": "lines",
         "name": "",
         "orientation": "v",
         "showlegend": false,
         "type": "scatter",
         "x": [
          "2022-06-01",
          "2022-05-31",
          "2022-04-30",
          "2022-04-01",
          "2022-03-31",
          "2022-03-01",
          "2022-02-28",
          "2022-02-01",
          "2022-01-31",
          "2021-12-31",
          "2021-12-01",
          "2021-11-30",
          "2021-11-01",
          "2021-10-31",
          "2021-10-01",
          "2021-09-30",
          "2021-09-01",
          "2021-08-31",
          "2021-07-31",
          "2021-07-01",
          "2021-06-30",
          "2021-06-01",
          "2021-05-31",
          "2021-04-30",
          "2021-04-01",
          "2021-03-31",
          "2021-03-01",
          "2021-02-28",
          "2021-02-01",
          "2021-01-31",
          "2020-12-31",
          "2020-12-01",
          "2020-11-30",
          "2020-10-31",
          "2020-10-01",
          "2020-09-30",
          "2020-09-01",
          "2020-08-31",
          "2020-07-31",
          "2020-07-01",
          "2020-06-30",
          "2020-06-01",
          "2020-05-31",
          "2020-05-01",
          "2020-04-30",
          "2020-04-01",
          "2020-03-31",
          "2020-02-29",
          "2020-02-28",
          "2020-01-31",
          "2019-12-31",
          "2019-11-30",
          "2019-11-01",
          "2019-10-31",
          "2019-09-30",
          "2019-08-31",
          "2019-07-31",
          "2019-06-30",
          "2019-05-31",
          "2019-04-30",
          "2019-03-31",
          "2019-02-28",
          "2019-01-31",
          "2018-12-31",
          "2018-11-30",
          "2018-10-31",
          "2018-09-30",
          "2018-08-31",
          "2018-07-31",
          "2018-06-30",
          "2018-05-31",
          "2018-04-30",
          "2018-03-31",
          "2018-02-28",
          "2018-01-31",
          "2017-12-31",
          "2017-11-30",
          "2017-10-31",
          "2017-09-30",
          "2017-08-31",
          "2017-07-31",
          "2017-06-30",
          "2017-05-31",
          "2017-04-30",
          "2017-03-31",
          "2017-02-28",
          "2017-01-31",
          "2016-12-31",
          "2016-11-30",
          "2016-10-31",
          "2016-09-30",
          "2016-08-31",
          "2016-07-31",
          "2016-06-30",
          "2016-05-31",
          "2016-04-30"
         ],
         "xaxis": "x",
         "y": [
          1.51,
          1.48,
          1.41,
          1.33,
          1.41,
          1.4,
          1.39,
          1.33,
          1.33,
          1.29,
          1.31,
          1.29,
          1.28,
          1.34,
          1.33,
          1.33,
          1.28,
          1.32,
          1.34,
          1.34,
          1.37,
          1.37,
          1.39,
          1.39,
          1.45,
          1.47,
          1.49,
          1.49,
          1.54,
          1.53,
          1.58,
          1.61,
          1.65,
          1.72,
          1.77,
          1.75,
          1.69,
          1.74,
          1.85,
          1.91,
          1.92,
          1.95,
          2.04,
          2.1,
          2.16,
          2.41,
          2.25,
          1.8,
          1.97,
          1.79,
          1.83,
          1.86,
          1.87,
          1.93,
          1.92,
          1.96,
          1.88,
          1.94,
          1.95,
          1.9,
          1.96,
          1.98,
          2.08,
          2.09,
          1.96,
          1.9,
          1.8,
          1.82,
          1.84,
          1.85,
          1.88,
          1.9,
          1.85,
          1.84,
          1.77,
          1.84,
          1.88,
          1.89,
          1.93,
          1.95,
          1.94,
          1.94,
          1.96,
          1.98,
          1.96,
          1.98,
          2.02,
          2.03,
          2.1,
          2.11,
          2.09,
          2.07,
          2.08,
          2.13,
          2.14,
          2.12
         ],
         "yaxis": "y"
        }
       ],
       "layout": {
        "legend": {
         "tracegroupgap": 0
        },
        "template": {
         "data": {
          "pie": [
           {
            "automargin": true,
            "type": "pie"
           }
          ]
         },
         "layout": {
          "xaxis": {
           "showgrid": true,
           "title": {
            "standoff": 15
           }
          },
          "yaxis": {
           "showgrid": true,
           "title": {
            "standoff": 15
           }
          }
         }
        },
        "title": {
         "text": "Nasdaq P/E Ratio By Month"
        },
        "xaxis": {
         "anchor": "y",
         "domain": [
          0,
          1
         ],
         "rangeselector": {
          "buttons": [
           {
            "count": 1,
            "label": "1m",
            "step": "month",
            "stepmode": "backward"
           },
           {
            "count": 6,
            "label": "6m",
            "step": "month",
            "stepmode": "backward"
           },
           {
            "count": 1,
            "label": "YTD",
            "step": "year",
            "stepmode": "todate"
           },
           {
            "count": 1,
            "label": "1y",
            "step": "year",
            "stepmode": "backward"
           },
           {
            "count": 4,
            "label": "4y",
            "step": "year",
            "stepmode": "backward"
           },
           {
            "step": "all"
           }
          ]
         },
         "rangeslider": {
          "visible": true
         },
         "title": {
          "text": "Date"
         }
        },
        "yaxis": {
         "anchor": "x",
         "domain": [
          0,
          1
         ],
         "title": {
          "text": "sp500 price"
         }
        }
       }
      }
     },
     "metadata": {},
     "output_type": "display_data"
    }
   ],
   "source": [
    "import plotly.express as px\n",
    "df = pd.read_csv('us_sp500_price.csv').head(96)\n",
    "fig = px.line(df, x=df.Date, y=df['sp500 price'], title='Nasdaq P/E Ratio By Month')\n",
    "fig.update_layout(\n",
    "   template=\"gridon\"\n",
    ")\n",
    "fig.update_xaxes(\n",
    "rangeslider_visible=True,\n",
    "rangeselector=dict(\n",
    "    buttons=list([\n",
    "        dict(count=1, label=\"1m\", step=\"month\", stepmode=\"backward\"),\n",
    "        dict(count=6, label=\"6m\", step=\"month\", stepmode=\"backward\"),\n",
    "        dict(count=1, label=\"YTD\", step=\"year\", stepmode=\"todate\"),\n",
    "        dict(count=1, label=\"1y\", step=\"year\", stepmode=\"backward\"),\n",
    "        dict(count=4, label=\"4y\", step=\"year\", stepmode=\"backward\"),\n",
    "        dict(step=\"all\")\n",
    "    ])\n",
    ")\n",
    ")\n",
    "fig"
   ]
  },
  {
   "cell_type": "code",
   "execution_count": 17,
   "metadata": {},
   "outputs": [
    {
     "data": {
      "text/html": [
       "<div>\n",
       "<style scoped>\n",
       "    .dataframe tbody tr th:only-of-type {\n",
       "        vertical-align: middle;\n",
       "    }\n",
       "\n",
       "    .dataframe tbody tr th {\n",
       "        vertical-align: top;\n",
       "    }\n",
       "\n",
       "    .dataframe thead th {\n",
       "        text-align: right;\n",
       "    }\n",
       "</style>\n",
       "<table border=\"1\" class=\"dataframe\">\n",
       "  <thead>\n",
       "    <tr style=\"text-align: right;\">\n",
       "      <th></th>\n",
       "      <th>Unnamed: 0</th>\n",
       "      <th>time</th>\n",
       "      <th>inflation_rate</th>\n",
       "    </tr>\n",
       "  </thead>\n",
       "  <tbody>\n",
       "    <tr>\n",
       "      <th>0</th>\n",
       "      <td>0</td>\n",
       "      <td>2022-05-31</td>\n",
       "      <td>8.582</td>\n",
       "    </tr>\n",
       "    <tr>\n",
       "      <th>1</th>\n",
       "      <td>1</td>\n",
       "      <td>2022-04-30</td>\n",
       "      <td>8.259</td>\n",
       "    </tr>\n",
       "    <tr>\n",
       "      <th>2</th>\n",
       "      <td>2</td>\n",
       "      <td>2022-03-31</td>\n",
       "      <td>8.542</td>\n",
       "    </tr>\n",
       "    <tr>\n",
       "      <th>3</th>\n",
       "      <td>3</td>\n",
       "      <td>2022-02-28</td>\n",
       "      <td>7.871</td>\n",
       "    </tr>\n",
       "    <tr>\n",
       "      <th>4</th>\n",
       "      <td>4</td>\n",
       "      <td>2022-01-31</td>\n",
       "      <td>7.480</td>\n",
       "    </tr>\n",
       "  </tbody>\n",
       "</table>\n",
       "</div>"
      ],
      "text/plain": [
       "   Unnamed: 0        time  inflation_rate\n",
       "0           0  2022-05-31           8.582\n",
       "1           1  2022-04-30           8.259\n",
       "2           2  2022-03-31           8.542\n",
       "3           3  2022-02-28           7.871\n",
       "4           4  2022-01-31           7.480"
      ]
     },
     "execution_count": 17,
     "metadata": {},
     "output_type": "execute_result"
    }
   ],
   "source": [
    "df.head()"
   ]
  },
  {
   "cell_type": "code",
   "execution_count": null,
   "metadata": {},
   "outputs": [],
   "source": [
    "import requests\n",
    "import pandas as pd\n",
    "# SP500 PE RATIO\n",
    "url = 'https://data.nasdaq.com/api/v3/datasets/MULTPL/SP500_PE_RATIO_MONTH.json?api_key=U7-3C3oT69mUDH7-F_VW'\n",
    "data_list = requests.get(url).json()['dataset']['data']\n",
    "xray = []\n",
    "yray = []\n",
    "for data in data_list:\n",
    "    xray.append(data[0])\n",
    "    yray.append(data[1])\n",
    "# print(xray[:5])\n",
    "# print(yray[:5])\n",
    "df = pd.DataFrame({\n",
    "    'Date':xray,\n",
    "    'P/E Ratio':yray\n",
    "}, index=None)\n",
    "df.to_csv('us_sp500_pe_ratio.csv',index=None)\n"
   ]
  },
  {
   "cell_type": "code",
   "execution_count": null,
   "metadata": {},
   "outputs": [],
   "source": [
    "import plotly.express as px\n",
    "fig = px.line(df, x='Date', y='P/E Ratio', title='Nasdaq P/E Ratio By Month')\n",
    "fig.update_layout(\n",
    "   template=\"gridon\"\n",
    ")\n",
    "fig.update_xaxes(\n",
    "rangeslider_visible=True,\n",
    "rangeselector=dict(\n",
    "    buttons=list([\n",
    "        dict(count=1, label=\"1m\", step=\"month\", stepmode=\"backward\"),\n",
    "        dict(count=6, label=\"6m\", step=\"month\", stepmode=\"backward\"),\n",
    "        dict(count=1, label=\"YTD\", step=\"year\", stepmode=\"todate\"),\n",
    "        dict(count=1, label=\"1y\", step=\"year\", stepmode=\"backward\"),\n",
    "        dict(count=4, label=\"4y\", step=\"year\", stepmode=\"backward\"),\n",
    "        dict(step=\"all\")\n",
    "    ])\n",
    ")\n",
    ")\n",
    "fig"
   ]
  },
  {
   "cell_type": "code",
   "execution_count": null,
   "metadata": {},
   "outputs": [],
   "source": [
    "# 技术，财务，计划"
   ]
  }
 ],
 "metadata": {
  "kernelspec": {
   "display_name": "Python 3.9.12 ('.env')",
   "language": "python",
   "name": "python3"
  },
  "language_info": {
   "codemirror_mode": {
    "name": "ipython",
    "version": 3
   },
   "file_extension": ".py",
   "mimetype": "text/x-python",
   "name": "python",
   "nbconvert_exporter": "python",
   "pygments_lexer": "ipython3",
   "version": "3.9.12"
  },
  "orig_nbformat": 4,
  "vscode": {
   "interpreter": {
    "hash": "275094a250fb64a879cf604ce7b88b81b1f18c35ecd757c3dc3951589b6fa1fd"
   }
  }
 },
 "nbformat": 4,
 "nbformat_minor": 2
}
